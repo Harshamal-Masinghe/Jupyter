{
 "cells": [
  {
   "cell_type": "markdown",
   "id": "c507e6b0-dabc-43ec-8996-41e5fd09707c",
   "metadata": {},
   "source": [
    "#### 1. Import Libraries and Load the Dataset"
   ]
  },
  {
   "cell_type": "code",
   "execution_count": null,
   "id": "c35f7fbb-7cb3-4189-8d19-edd335be600b",
   "metadata": {},
   "outputs": [],
   "source": [
    "pip install graphviz"
   ]
  },
  {
   "cell_type": "code",
   "execution_count": null,
   "id": "fd9c38cc-7e15-4b9b-a2c0-7254e47782d5",
   "metadata": {},
   "outputs": [],
   "source": [
    "import pandas as pd\n",
    "from sklearn.tree import DecisionTreeClassifier\n",
    "from sklearn.model_selection import train_test_split\n",
    "from sklearn import tree\n",
    "import graphviz\n",
    "import os\n",
    "os.environ[\"PATH\"] += os.pathsep + 'C:/Program Files/Graphviz/bin'\n"
   ]
  },
  {
   "cell_type": "code",
   "execution_count": null,
   "id": "f4bbce5d-5c2f-4a20-aeae-a296dc1b9c6f",
   "metadata": {},
   "outputs": [],
   "source": [
    "# Load the dataset\n",
    "df = pd.read_csv('car.csv', header = None)\n",
    "\n",
    "# View the data to ensure it's loaded correctly\n",
    "df.head()"
   ]
  },
  {
   "cell_type": "markdown",
   "id": "02e7c213-b105-4239-9d2d-e88ffc27aaa4",
   "metadata": {},
   "source": [
    "#### 2. Assign Column Names\n",
    "##### Since the dataset does not include headers, manually assign column names:"
   ]
  },
  {
   "cell_type": "code",
   "execution_count": null,
   "id": "7c7d496c-2040-4017-ae6b-9e7f676c255f",
   "metadata": {},
   "outputs": [],
   "source": [
    "# Assign column names to the dataset\n",
    "df.columns = ['buying', 'maint', 'doors', 'persons', 'lug_boot', 'safety', 'Car']\n",
    "\n",
    "# View the dataset with column names\n",
    "df.head()\n"
   ]
  },
  {
   "cell_type": "markdown",
   "id": "b793aca7-1448-4388-b182-ae89c7b90417",
   "metadata": {},
   "source": [
    "#### 3. Convert Categorical Data to Numerical Data\n",
    "##### Convert the categorical columns into numerical format using pd.factorize():"
   ]
  },
  {
   "cell_type": "code",
   "execution_count": null,
   "id": "1cb75e16-a4d9-430f-b62e-63c6806c5de0",
   "metadata": {},
   "outputs": [],
   "source": [
    "# Convert categorical columns to numerical\n",
    "for column in df.columns:\n",
    "    df[column], _ = pd.factorize(df[column])\n",
    "\n",
    "# View the converted data\n",
    "df.head()\n"
   ]
  },
  {
   "cell_type": "markdown",
   "id": "a067ea91-b9b3-43b6-866c-f3a6d7d45d7f",
   "metadata": {},
   "source": [
    "#### 4. Split the Dataset into Features and Target Variable\n",
    "##### Separate the features (input data) from the target variable (output data):"
   ]
  },
  {
   "cell_type": "code",
   "execution_count": null,
   "id": "064726d3-44c4-423d-9bd5-8d55d86e9f60",
   "metadata": {},
   "outputs": [],
   "source": [
    "# Features (all columns except 'Car') and target ('Car')\n",
    "X = df.iloc[:, :-1]\n",
    "y = df.iloc[:, -1]\n",
    "\n",
    "# Split the data into training and testing sets\n",
    "X_train, X_test, y_train, y_test = train_test_split(X, y, test_size=0.25, random_state=0)"
   ]
  },
  {
   "cell_type": "code",
   "execution_count": null,
   "id": "a4f2a04a-42ce-46a8-98ce-72cfdb43013a",
   "metadata": {},
   "outputs": [],
   "source": [
    "# View the split data\n",
    "X_train.head()"
   ]
  },
  {
   "cell_type": "code",
   "execution_count": null,
   "id": "e10e3954-a32e-4c0e-b1a6-e00cf40b48e0",
   "metadata": {},
   "outputs": [],
   "source": [
    "y_train.head()"
   ]
  },
  {
   "cell_type": "markdown",
   "id": "499282af-e608-41e7-9ba1-92f44d6e4727",
   "metadata": {},
   "source": [
    "#### 5. Build the Decision Tree Classifier\n",
    "##### Create and train the decision tree classifier:"
   ]
  },
  {
   "cell_type": "code",
   "execution_count": null,
   "id": "aa6fc238-d448-4e7b-9c50-9fb6481dd6d8",
   "metadata": {},
   "outputs": [],
   "source": [
    "# Create the classifier\n",
    "clf = DecisionTreeClassifier(random_state=0)\n",
    "\n",
    "# Train the classifier\n",
    "clf.fit(X_train, y_train)\n"
   ]
  },
  {
   "cell_type": "markdown",
   "id": "c0acc9cf-8c4a-4ea2-bf57-29b9a1de9178",
   "metadata": {},
   "source": [
    "#### 6. Evaluate the Model\n",
    "##### Check the accuracy of the model on the test data:"
   ]
  },
  {
   "cell_type": "code",
   "execution_count": null,
   "id": "34d1e7ec-b8c0-488a-99fd-32078ed98f51",
   "metadata": {},
   "outputs": [],
   "source": [
    "# Test the accuracy of the classifier\n",
    "accuracy = clf.score(X_test, y_test)\n",
    "print(f\"Model Accuracy: {accuracy * 100:.2f}%\")\n"
   ]
  },
  {
   "cell_type": "markdown",
   "id": "344aaaea-fa41-4e9a-a052-f97a951eb02e",
   "metadata": {},
   "source": [
    "#### 7. Make Predictions\n",
    "##### Use the trained model to make predictions on the test data:"
   ]
  },
  {
   "cell_type": "code",
   "execution_count": null,
   "id": "65a9ea88-8abd-424d-a030-9a2e8782cbf1",
   "metadata": {},
   "outputs": [],
   "source": [
    "# Make predictions on test data\n",
    "predictions = clf.predict(X_test[10:15])\n",
    "\n",
    "# Compare predictions with actual class labels\n",
    "print(f\"Predictions: {predictions}\")\n",
    "print(f\"Actual: {y_test[10:15].values}\")\n"
   ]
  },
  {
   "cell_type": "markdown",
   "id": "dfc04cd7-1df5-4cbe-a194-fd7bda75e37b",
   "metadata": {},
   "source": [
    "#### 8. Visualize the Decision Tree\n",
    "##### Visualize the trained decision tree using graphviz:"
   ]
  },
  {
   "cell_type": "code",
   "execution_count": null,
   "id": "3b73d067-722f-442f-8ca7-8a2b3d65004f",
   "metadata": {},
   "outputs": [],
   "source": [
    "# Visualize the decision tree\n",
    "feature_names = X.columns\n",
    "class_names = [str(i) for i in df['Car'].unique()]  # Convert to a list of strings\n",
    "dot_data = tree.export_graphviz(clf, out_file=None, filled=True, rounded=True, \n",
    "                                feature_names=feature_names, class_names=class_names)\n",
    "graph = graphviz.Source(dot_data)\n",
    "graph.render(\"car_decision_tree\")\n"
   ]
  },
  {
   "cell_type": "code",
   "execution_count": null,
   "id": "e43a7b39-cd6e-4b7e-a1cf-d903b92adc67",
   "metadata": {},
   "outputs": [],
   "source": []
  }
 ],
 "metadata": {
  "kernelspec": {
   "display_name": "Python 3 (ipykernel)",
   "language": "python",
   "name": "python3"
  },
  "language_info": {
   "codemirror_mode": {
    "name": "ipython",
    "version": 3
   },
   "file_extension": ".py",
   "mimetype": "text/x-python",
   "name": "python",
   "nbconvert_exporter": "python",
   "pygments_lexer": "ipython3",
   "version": "3.12.3"
  }
 },
 "nbformat": 4,
 "nbformat_minor": 5
}
